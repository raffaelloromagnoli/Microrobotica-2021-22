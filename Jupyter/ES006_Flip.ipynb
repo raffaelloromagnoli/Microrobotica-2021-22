{
  "cells":[
    {
      "cell_type":"code",
      "source":[
        "import numpy as np\n",
        "import  math"
      ],
      "execution_count":2,
      "outputs":[
        
      ],
      "metadata":{
        
      }
    },
    {
      "cell_type":"code",
      "source":[
        "#Flip given array\n",
        "\n",
        "dritto = np.arange(10)\n",
        "print(dritto)\n",
        "inverso=np.flip(dritto)\n",
        "print(inverso)"
      ],
      "execution_count":22,
      "outputs":[
        {
          "name":"stdout",
          "text":[
            "[0 1 2 3 4 5 6 7 8 9]\n",
            "[9 8 7 6 5 4 3 2 1 0]\n"
          ],
          "output_type":"stream"
        }
      ],
      "metadata":{
        
      }
    },
    {
      "cell_type":"code",
      "source":[
        "#Get primus number pos in given array\n",
        "numbers=np.arange(100)\n",
        "\n",
        "def is_prime(n):\n",
        "    if n % 2 == 0 and n > 2: \n",
        "        return False\n",
        "    return all(n % i for i in range(3, int(math.sqrt(n)) + 1, 2))\n",
        "\n",
        "a = np.arange(1, 542)\n",
        "foo = np.vectorize(is_prime)\n",
        "pbools = foo(a)\n",
        "primes = np.extract(pbools, a)\n",
        "primes"
      ],
      "execution_count":17,
      "outputs":[
        {
          "data":{
            "text\/html":[
              
            ]
          },
          "metadata":{
            
          },
          "output_type":"display_data"
        }
      ],
      "metadata":{
        
      }
    },
    {
      "cell_type":"code",
      "source":[
        "#first ten numbers of Fibonacci series\n",
        "\n",
        "a=np.arange(0, 10)\n",
        "lenA=len(a)\n",
        "\n",
        "rdc5=np.sqrt(5)\n",
        "#termini alpha e beta della formula di Binet\n",
        "alpha=(1+rdc5)\/2\n",
        "beta=(1-rdc5)\/2\n",
        "\n",
        "binet=np.rint(((alpha ** a)-(beta ** a))\/(rdc5))\n",
        "binet"
      ],
      "execution_count":21,
      "outputs":[
        {
          "data":{
            "text\/html":[
              
            ]
          },
          "metadata":{
            
          },
          "output_type":"display_data"
        }
      ],
      "metadata":{
        
      }
    }
  ],
  "metadata":{
    
  },
  "nbformat":4,
  "nbformat_minor":0
}